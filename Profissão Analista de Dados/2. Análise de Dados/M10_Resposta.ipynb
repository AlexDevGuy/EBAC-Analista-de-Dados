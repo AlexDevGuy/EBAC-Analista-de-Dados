{
  "nbformat": 4,
  "nbformat_minor": 0,
  "metadata": {
    "colab": {
      "provenance": []
    },
    "kernelspec": {
      "name": "python3",
      "display_name": "Python 3"
    }
  },
  "cells": [
    {
      "cell_type": "markdown",
      "metadata": {
        "id": "KJqp9AANOCtf"
      },
      "source": [
        "<img src=\"https://raw.githubusercontent.com/andre-marcos-perez/ebac-course-utils/main/media/logo/newebac_logo_black_half.png\" alt=\"ebac-logo\">\n",
        "\n",
        "---\n",
        "\n",
        "# **Módulo** | Análise de Dados: Coleta de Dados I\n",
        "Caderno de **Exercícios**<br>\n",
        "Professor [André Perez](https://www.linkedin.com/in/andremarcosperez/)\n",
        "\n",
        "---"
      ]
    },
    {
      "cell_type": "markdown",
      "metadata": {
        "id": "d9jDtUbDOE1-"
      },
      "source": [
        "# **Tópicos**\n",
        "\n",
        "<ol type=\"1\">\n",
        "  <li>Arquivos CSV;</li>\n",
        "  <li>Arquivos Texto;</li>\n",
        "  <li>Arquivos Excel.</li>\n",
        "</ol>"
      ]
    },
    {
      "cell_type": "markdown",
      "metadata": {
        "id": "SmoHgt-lwkpD"
      },
      "source": [
        "---"
      ]
    },
    {
      "cell_type": "markdown",
      "metadata": {
        "id": "GABI6OW8OfQ2"
      },
      "source": [
        "# **Exercícios**"
      ]
    },
    {
      "cell_type": "markdown",
      "metadata": {
        "id": "muD1vxozykSC"
      },
      "source": [
        "## 0\\. Preparando o ambiente"
      ]
    },
    {
      "cell_type": "markdown",
      "metadata": {
        "id": "ByX7SUjNKk2K"
      },
      "source": [
        "Vamos explorar dados de crédito presentes no arquivo `credito.xlsx` ([link](https://raw.githubusercontent.com/andre-marcos-perez/ebac-course-utils/develop/dataset/credito.xlsx)). Os dados estão no formato de **Excel** (XLSX) e contém informações sobre clientes de uma instituição financeira. Em especial, estamos interessados em explicar a segunda coluna, chamada de **default**, que indica se um cliente é adimplente (`default = 0`), ou inadimplente (`default = 1`), ou seja, queremos entender o porque um cliente deixa de honrar com suas dívidas baseado no comportamento de outros atributos, como salário, escolaridade e movimentação financeira. Uma descrição completa dos atributos está abaixo."
      ]
    },
    {
      "cell_type": "markdown",
      "metadata": {
        "id": "Z5Fd0NSVLnwE"
      },
      "source": [
        "\n",
        "\n",
        "| Coluna  | Descrição |\n",
        "| ------- | --------- |\n",
        "| id      | Número da conta |\n",
        "| default | Indica se o cliente é adimplente (0) ou inadimplente (1) |\n",
        "| idade   | --- |\n",
        "| sexo    | --- |\n",
        "| depedentes | --- |\n",
        "| escolaridade | --- |\n",
        "| estado_civil | --- |\n",
        "| salario_anual | Faixa do salario mensal multiplicado por 12 |\n",
        "| tipo_cartao | Categoria do cartao: blue, silver, gold e platinium |\n",
        "| meses_de_relacionamento | Quantidade de meses desde a abertura da conta |\n",
        "| qtd_produtos | Quantidade de produtos contratados |\n",
        "| iteracoes_12m | Quantidade de iteracoes com o cliente no último ano |\n",
        "| meses_inatico_12m | Quantidade de meses que o cliente ficou inativo no último ano |\n",
        "| limite_credito | Valor do limite do cartão de crédito |\n",
        "| valor_transacoes_12m | Soma total do valor das transações no cartão de crédito no último ano |\n",
        "| qtd_transacoes_12m | Quantidade total de transações no cartão de crédito no último ano |\n",
        "\n"
      ]
    },
    {
      "cell_type": "markdown",
      "metadata": {
        "id": "peEbZE2vcMaH"
      },
      "source": [
        "Faça o download do arquivo `credito.xlsx` com a célula de código abaixo."
      ]
    },
    {
      "cell_type": "code",
      "metadata": {
        "id": "hyG8xFuWc16L",
        "colab": {
          "base_uri": "https://localhost:8080/"
        },
        "outputId": "5cdb709b-0d8e-4f00-d603-c7f64a1cdd6d"
      },
      "source": [
        "!wget --show-progress --continue -O ./credito.xlsx https://raw.githubusercontent.com/andre-marcos-perez/ebac-course-utils/main/dataset/credito.xlsx"
      ],
      "execution_count": 1,
      "outputs": [
        {
          "output_type": "stream",
          "name": "stdout",
          "text": [
            "--2024-05-27 23:02:21--  https://raw.githubusercontent.com/andre-marcos-perez/ebac-course-utils/main/dataset/credito.xlsx\n",
            "Resolving raw.githubusercontent.com (raw.githubusercontent.com)... 185.199.108.133, 185.199.110.133, 185.199.109.133, ...\n",
            "Connecting to raw.githubusercontent.com (raw.githubusercontent.com)|185.199.108.133|:443... connected.\n",
            "HTTP request sent, awaiting response... 200 OK\n",
            "Length: 748185 (731K) [application/octet-stream]\n",
            "Saving to: ‘./credito.xlsx’\n",
            "\n",
            "./credito.xlsx      100%[===================>] 730.65K  --.-KB/s    in 0.03s   \n",
            "\n",
            "2024-05-27 23:02:21 (20.8 MB/s) - ‘./credito.xlsx’ saved [748185/748185]\n",
            "\n"
          ]
        }
      ]
    },
    {
      "cell_type": "markdown",
      "metadata": {
        "id": "zMN1Q3jdwoJm"
      },
      "source": [
        "---"
      ]
    },
    {
      "cell_type": "markdown",
      "metadata": {
        "id": "GWgNoJN8DHyY"
      },
      "source": [
        "## 1\\. Excel para CSV"
      ]
    },
    {
      "cell_type": "markdown",
      "metadata": {
        "id": "YynK1vf2DHyj"
      },
      "source": [
        "Utilizando o pacote Python `openpyxl` visto em aula, extraia os seguintes as colunas `id`, `sexo` e `idade` para dos clientes inadimplentes (`default = 1`) e solteiros (`estado_civil = 'solteiro'`). Salves os dados extraídos no arquivo csv `credito.csv` separado por `;`. Exemplo do cabeçalho e das três primeiras linhas:\n",
        "\n",
        "```\n",
        "id;sexo;idade\n",
        "767712558;59;M\n",
        "713741358;46;M\n",
        "772390908;59;M\n",
        "```\n",
        "\n",
        "**Dica:** O arquivo csv `credito.csv` deve ter 669 linhas, contando com o cabeçalho.\n",
        "\n",
        "**Nota:** Escreva o código da sua solução abaixo em uma ou mais células, você não precisa enviar o arquivo csv gerado."
      ]
    },
    {
      "cell_type": "code",
      "metadata": {
        "id": "hVK8QyFvE-wk"
      },
      "source": [
        "# solução do exercício 1\n",
        "\n",
        "from openpyxl import load_workbook\n",
        "import csv\n",
        "\n",
        "#carregar a planilha de Excel\n",
        "planilhas = load_workbook(filename='credito.xlsx')\n",
        "planilha = planilhas.active\n",
        "\n",
        "#pegar o cabeçalho\n",
        "cabecalho = next(planilha.values)\n",
        "\n",
        "#pegar as colunas que eu quero\n",
        "indice_id = cabecalho.index('id')\n",
        "indice_sexo = cabecalho.index('sexo')\n",
        "indice_idade = cabecalho.index('idade')\n",
        "indice_default = cabecalho.index('default')\n",
        "indice_estado_civil = cabecalho.index('estado_civil')\n",
        "\n",
        "#preparar a lista\n",
        "lista_filtrada = []\n",
        "\n",
        "for linha in planilha.iter_rows(min_row = 2, values_only = True):\n",
        "    id_cliente = linha[indice_id]\n",
        "    sexo = linha[indice_sexo]\n",
        "    idade = linha[indice_idade]\n",
        "    default = linha[indice_default]\n",
        "    estado_civil = linha[indice_estado_civil]\n",
        "\n",
        "    #filtrar os clientes inadimplentes e solteiros\n",
        "    if default == 1 and estado_civil == 'solteiro':\n",
        "        lista_filtrada.append([id_cliente, sexo, idade])\n",
        "\n",
        "#escrever os dados obtidos em um arquivo CSV\n",
        "with open('credito.csv', mode = 'w', newline = '', encoding = 'utf-8') as arquivo:\n",
        "    writer = csv.writer(arquivo, delimiter = ';')\n",
        "\n",
        "    #escrever o cabeçalho\n",
        "    writer.writerow(['id', 'sexo', 'idade'])\n",
        "\n",
        "    #escrever as linhas de dados filtrados\n",
        "    writer.writerows(lista_filtrada)"
      ],
      "execution_count": 3,
      "outputs": []
    },
    {
      "cell_type": "markdown",
      "metadata": {
        "id": "waxn4B2UDHyl"
      },
      "source": [
        "---"
      ]
    },
    {
      "cell_type": "markdown",
      "metadata": {
        "id": "finLQoyyGVmk"
      },
      "source": [
        "## 2\\. Excel para JSON"
      ]
    },
    {
      "cell_type": "markdown",
      "metadata": {
        "id": "99BrnqR4GVmy"
      },
      "source": [
        "Como preparação para o próximo módulo, vamos trabalhar com o JSON, um formato semi-estruturado, muito utilizado em transmissão de dados da web e equivalente a um **dicionário** Python."
      ]
    },
    {
      "cell_type": "markdown",
      "metadata": {
        "id": "AQqks_tohV8k"
      },
      "source": [
        "Utilizando o pacote Python `openpyxl` visto em aula, extraia os dados das colunas `escolaridade` e `tipo_cartao`, removendo duplicados. Com os dados, construa o dicionário Python `credito` com a seguinte estrutura:\n",
        "\n",
        "```python\n",
        "credito = {\n",
        "  'tipo_cartao': ['silver', 'blue', 'gold', 'platinum'],\n",
        "  'escolaridade': ['doutorado', 'mestrado', 'na', 'sem educacao formal', 'graduacao', 'ensino medio']\n",
        "}\n",
        "```\n",
        "\n",
        "Para finalizar, utilize o código abaixo para converter o dicionário `credito` no formato JSON:\n",
        "\n",
        "```python\n",
        "import json\n",
        "\n",
        "credito_json = json.dumps(credito, indent=4)\n",
        "print(credito_json)\n",
        "```\n",
        "\n",
        "**Dica:** Sua solução deve gerar o dicionário Python `credito` igual ao exemplo mas a ordem dos elementos pode variar tranquilamente.\n",
        "\n",
        "**Dica:** Uma excelente forma de remover elementos duplicados de uma lista é convertê-la para `set` e depois para `list` novamente.\n",
        "\n"
      ]
    },
    {
      "cell_type": "code",
      "metadata": {
        "id": "pCMQ5vBPjSXn",
        "colab": {
          "base_uri": "https://localhost:8080/"
        },
        "outputId": "43bd01e2-58d5-4f00-d2e0-eb10ee4d4985"
      },
      "source": [
        "# solução do exercício 2\n",
        "from openpyxl import load_workbook\n",
        "import json\n",
        "\n",
        "#carregar a planilha de Excel\n",
        "planilhas = load_workbook(filename = 'credito.xlsx')\n",
        "planilha = planilhas.active\n",
        "\n",
        "#pegar o cabeçalho\n",
        "cabecalho = next(planilha.values)\n",
        "\n",
        "#pegar as colunas que eu quero\n",
        "indice_escolaridade = cabecalho.index('escolaridade')\n",
        "indice_tipo_cartao = cabecalho.index('tipo_cartao')\n",
        "\n",
        "#preparar os conjuntos para armazenar os dados\n",
        "escolaridade_set = set()\n",
        "tipo_cartao_set = set()\n",
        "\n",
        "for linha in planilha.iter_rows(min_row = 2, values_only = True):\n",
        "    escolaridade = linha[indice_escolaridade]\n",
        "    tipo_cartao = linha[indice_tipo_cartao]\n",
        "\n",
        "    #adicionar os valores aos conjuntos\n",
        "    if escolaridade:\n",
        "        escolaridade_set.add(escolaridade)\n",
        "    if tipo_cartao:\n",
        "        tipo_cartao_set.add(tipo_cartao)\n",
        "\n",
        "#converter os conjuntos em listas\n",
        "escolaridade_list = list(escolaridade_set)\n",
        "tipo_cartao_list = list(tipo_cartao_set)\n",
        "\n",
        "#construir o dicionário\n",
        "credito = {\n",
        "    'tipo_cartao': tipo_cartao_list,\n",
        "    'escolaridade': escolaridade_list\n",
        "}\n",
        "\n",
        "#converter o dicionário em JSON e imprimir\n",
        "credito_json = json.dumps(credito, indent = 4)\n",
        "print(credito_json)"
      ],
      "execution_count": 5,
      "outputs": [
        {
          "output_type": "stream",
          "name": "stdout",
          "text": [
            "{\n",
            "    \"tipo_cartao\": [\n",
            "        \"silver\",\n",
            "        \"platinum\",\n",
            "        \"gold\",\n",
            "        \"blue\"\n",
            "    ],\n",
            "    \"escolaridade\": [\n",
            "        \"mestrado\",\n",
            "        \"graduacao\",\n",
            "        \"sem educacao formal\",\n",
            "        \"ensino medio\",\n",
            "        \"doutorado\",\n",
            "        \"na\"\n",
            "    ]\n",
            "}\n"
          ]
        }
      ]
    },
    {
      "cell_type": "markdown",
      "metadata": {
        "id": "As3enQc2GVm1"
      },
      "source": [
        "---"
      ]
    },
    {
      "cell_type": "markdown",
      "metadata": {
        "id": "SS1PxxfHILHs"
      },
      "source": [
        "## 3\\. BÔNUS: Texto para CSV"
      ]
    },
    {
      "cell_type": "markdown",
      "metadata": {
        "id": "i3f-X7y23onm"
      },
      "source": [
        "No arquivo de texto `ebac.txt` você encontra o texto presente no rodapé da página de cursos da EBAC ([link](https://ebaconline.com.br/)).\n",
        "\n"
      ]
    },
    {
      "cell_type": "markdown",
      "metadata": {
        "id": "nKDF9EBH3onp"
      },
      "source": [
        "**Arquivo TXT:** ebac.txt"
      ]
    },
    {
      "cell_type": "code",
      "metadata": {
        "id": "Pyyj5VNnb16w",
        "colab": {
          "base_uri": "https://localhost:8080/"
        },
        "outputId": "588dab64-75e4-4506-bae8-73130cb76130"
      },
      "source": [
        "%%writefile ebac.txt\n",
        "MÍDIAS SOCIAIS\n",
        "Instagram, Facebook, Youtube, LinkedIn\n",
        "\n",
        "CURSOS\n",
        "Software, Design, Marketing, Audiovisual, Programação & Data, Games\n",
        "\n",
        "WEBINARS\n",
        "Próximos, Anteriores\n",
        "\n",
        "SOBRE\n",
        "Sobre nós, Centro de carreiras, Vagas\n",
        "\n",
        "CONTATO\n",
        "WhatsApp +55 (11) 4200-2991\n",
        "Telefone +55 (11) 3030-3200\n",
        "\n",
        "BLOG\n",
        "Design, Audiovisual, Marketing"
      ],
      "execution_count": 7,
      "outputs": [
        {
          "output_type": "stream",
          "name": "stdout",
          "text": [
            "Overwriting ebac.txt\n"
          ]
        }
      ]
    },
    {
      "cell_type": "markdown",
      "metadata": {
        "id": "R4hMJ6D2ILH3"
      },
      "source": [
        "Extraia os números de contato do arquivo texto `ebac.txt` e salve-os no arquivo csv `contato_ebac.csv` com o separador `;` no seguinte formato:\n",
        "\n",
        "```\n",
        "tipo;numero\n",
        "whatsapp;+551142002991\n",
        "telefone;+551130303200\n",
        "```\n",
        "\n",
        "**Nota:** Escreva o código da sua solução abaixo em uma ou mais células, você não precisa enviar o arquivo csv gerado."
      ]
    },
    {
      "cell_type": "code",
      "metadata": {
        "id": "ogZClDvTILH3"
      },
      "source": [
        "# solução do exercício 3 (bônus)\n",
        "import csv\n",
        "\n",
        "#ler o conteudo do arquivo\n",
        "with open('ebac.txt', mode = 'r', encoding = 'utf-8') as arquivo:\n",
        "    linhas = arquivo.readlines()\n",
        "\n",
        "#começar im dicionario\n",
        "contatos = {}\n",
        "\n",
        "#processar cada linha para extrair os números de contato\n",
        "for linha in linhas:\n",
        "    linha = linha.strip()\n",
        "    if linha.startswith('WhatsApp'):\n",
        "        contatos['whatsapp'] = linha.split('WhatsApp ') [1].replace(' ', '').replace('(', '').replace(')', '').replace('-', '')\n",
        "    elif linha.startswith('Telefone'):\n",
        "        contatos['telefone'] = linha.split('Telefone ') [1].replace(' ', '').replace('(', '').replace(')', '').replace('-', '')\n",
        "\n",
        "#escrever os dados extraídos no arquivo CSV\n",
        "with open('contato_ebac.csv', mode = 'w', newline = '', encoding = 'utf-8') as arquivo:\n",
        "    writer = csv.writer(arquivo, delimiter = ';')\n",
        "    writer.writerow(['tipo', 'numero'])\n",
        "    for tipo, numero in contatos.items():\n",
        "        writer.writerow([tipo, numero])"
      ],
      "execution_count": 11,
      "outputs": []
    },
    {
      "cell_type": "markdown",
      "metadata": {
        "id": "Fx--J2bOILH4"
      },
      "source": [
        "---"
      ]
    }
  ]
}