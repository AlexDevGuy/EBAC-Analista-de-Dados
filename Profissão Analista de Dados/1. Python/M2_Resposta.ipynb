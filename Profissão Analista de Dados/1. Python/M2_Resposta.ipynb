{
  "nbformat": 4,
  "nbformat_minor": 0,
  "metadata": {
    "colab": {
      "provenance": [],
      "toc_visible": true
    },
    "kernelspec": {
      "name": "python3",
      "display_name": "Python 3"
    }
  },
  "cells": [
    {
      "cell_type": "markdown",
      "metadata": {
        "id": "KJqp9AANOCtf"
      },
      "source": [
        "<img src=\"https://raw.githubusercontent.com/andre-marcos-perez/ebac-course-utils/main/media/logo/newebac_logo_black_half.png\" alt=\"ebac-logo\">\n",
        "\n",
        "---\n",
        "\n",
        "# **Módulo** | Python: Estruturas de Dados\n",
        "Caderno de **Exercícios**<br>\n",
        "Professor [André Perez](https://www.linkedin.com/in/andremarcosperez/)\n",
        "\n",
        "---"
      ]
    },
    {
      "cell_type": "markdown",
      "metadata": {
        "id": "d9jDtUbDOE1-"
      },
      "source": [
        "# **Tópicos**\n",
        "\n",
        "<ol type=\"1\">\n",
        "  <li>Listas;</li>\n",
        "  <li>Conjuntos;</li>\n",
        "  <li>Dicionários.</li>\n",
        "</ol>"
      ]
    },
    {
      "cell_type": "markdown",
      "metadata": {
        "id": "SmoHgt-lwkpD"
      },
      "source": [
        "---"
      ]
    },
    {
      "cell_type": "markdown",
      "metadata": {
        "id": "GABI6OW8OfQ2"
      },
      "source": [
        "# **Exercícios**"
      ]
    },
    {
      "cell_type": "markdown",
      "metadata": {
        "id": "muD1vxozykSC"
      },
      "source": [
        "## 1\\. Listas"
      ]
    },
    {
      "cell_type": "markdown",
      "metadata": {
        "id": "ahrFfCuBxJKs"
      },
      "source": [
        "Criei uma lista chamada `filmes` com o nome dos 10 primeiros filmes mais bem avaliados no site no [IMDB](https://www.imdb.com/chart/top/). Imprima o resultado."
      ]
    },
    {
      "cell_type": "code",
      "metadata": {
        "id": "OgL6Hv3bzOHI",
        "colab": {
          "base_uri": "https://localhost:8080/"
        },
        "outputId": "18c36832-a10e-42db-e4c7-b8f6569aa272"
      },
      "source": [
        "filmes = []\n",
        "filmes.append('Um Sonho de Liberdade')\n",
        "filmes.append('Poderoso Chefão')\n",
        "filmes.append('Batman: O Cavaleiro das Trevas')\n",
        "filmes.append('O Poderoso Chefão II')\n",
        "filmes.append('12 Homens e uma Sentença')\n",
        "filmes.append('A Lista de Schindler')\n",
        "filmes.append('O Senhor dos Anéis: O Retorno do Rei')\n",
        "filmes.append('Pulp Fiction: Tempo de Violência')\n",
        "filmes.append('O Senhor dos Anéis: A Sociedade do Anel')\n",
        "filmes.append('Três Homens em Conflito')\n",
        "\n",
        "#Usando print com um separador personalizado para pular linha\n",
        "print('\\n'.join(filmes))"
      ],
      "execution_count": 32,
      "outputs": [
        {
          "output_type": "stream",
          "name": "stdout",
          "text": [
            "Um Sonho de Liberdade\n",
            "Poderoso Chefão\n",
            "Batman: O Cavaleiro das Trevas\n",
            "O Poderoso Chefão II\n",
            "12 Homens e uma Sentença\n",
            "A Lista de Schindler\n",
            "O Senhor dos Anéis: O Retorno do Rei\n",
            "Pulp Fiction: Tempo de Violência\n",
            "O Senhor dos Anéis: A Sociedade do Anel\n",
            "Três Homens em Conflito\n"
          ]
        }
      ]
    },
    {
      "cell_type": "markdown",
      "metadata": {
        "id": "KI9zQRT2xa7m"
      },
      "source": [
        "Simule a movimentação do *ranking*. Utilize os métodos `insert` e `pop` para trocar a posição do primeiro e do segundo filme da lista. Imprima o resultado.\n",
        "\n"
      ]
    },
    {
      "cell_type": "code",
      "metadata": {
        "id": "zX3mA3_GzrXH",
        "colab": {
          "base_uri": "https://localhost:8080/"
        },
        "outputId": "540b540f-5ba3-4df3-968a-6f15a2bb1bd4"
      },
      "source": [
        "filmes = []\n",
        "filmes.append('Um Sonho de Liberdade')\n",
        "filmes.append('Poderoso Chefão')\n",
        "filmes.append('Batman: O Cavaleiro das Trevas')\n",
        "filmes.append('O Poderoso Chefão II')\n",
        "filmes.append('12 Homens e uma Sentença')\n",
        "filmes.append('A Lista de Schindler')\n",
        "filmes.append('O Senhor dos Anéis: O Retorno do Rei')\n",
        "filmes.append('Pulp Fiction: Tempo de Violência')\n",
        "filmes.append('O Senhor dos Anéis: A Sociedade do Anel')\n",
        "filmes.append('Três Homens em Conflito')\n",
        "\n",
        "retira_primeiro_filme = filmes.pop(0)\n",
        "primeiro_vira_segundo = filmes.insert(1, 'Um Sonho de Liberdade')\n",
        "\n",
        "print('\\n'.join(filmes))"
      ],
      "execution_count": 33,
      "outputs": [
        {
          "output_type": "stream",
          "name": "stdout",
          "text": [
            "Poderoso Chefão\n",
            "Um Sonho de Liberdade\n",
            "Batman: O Cavaleiro das Trevas\n",
            "O Poderoso Chefão II\n",
            "12 Homens e uma Sentença\n",
            "A Lista de Schindler\n",
            "O Senhor dos Anéis: O Retorno do Rei\n",
            "Pulp Fiction: Tempo de Violência\n",
            "O Senhor dos Anéis: A Sociedade do Anel\n",
            "Três Homens em Conflito\n"
          ]
        }
      ]
    },
    {
      "cell_type": "markdown",
      "metadata": {
        "id": "zMN1Q3jdwoJm"
      },
      "source": [
        "---"
      ]
    },
    {
      "cell_type": "markdown",
      "metadata": {
        "id": "lxa5L6uF0ZJE"
      },
      "source": [
        "## 2\\. Conjuntos"
      ]
    },
    {
      "cell_type": "markdown",
      "metadata": {
        "id": "9JahS2Kj0d5u"
      },
      "source": [
        "Aconteceu um erro no seu *ranking*. Simule a duplicação dos três últimos filmes da lista. Imprima o resultado."
      ]
    },
    {
      "cell_type": "code",
      "metadata": {
        "id": "BnjnLBNC6PGe",
        "colab": {
          "base_uri": "https://localhost:8080/"
        },
        "outputId": "5065e588-729c-42da-a8c5-79076f3a84dc"
      },
      "source": [
        "filmes = []\n",
        "filmes.append('Um Sonho de Liberdade')\n",
        "filmes.append('Poderoso Chefão')\n",
        "filmes.append('Batman: O Cavaleiro das Trevas')\n",
        "filmes.append('O Poderoso Chefão II')\n",
        "filmes.append('12 Homens e uma Sentença')\n",
        "filmes.append('A Lista de Schindler')\n",
        "filmes.append('O Senhor dos Anéis: O Retorno do Rei')\n",
        "filmes.append('Pulp Fiction: Tempo de Violência')\n",
        "filmes.append('Pulp Fiction: Tempo de Violência')\n",
        "filmes.append('O Senhor dos Anéis: A Sociedade do Anel')\n",
        "filmes.append('O Senhor dos Anéis: A Sociedade do Anel')\n",
        "filmes.append('Três Homens em Conflito')\n",
        "filmes.append('Três Homens em Conflito')\n",
        "\n",
        "print('\\n'.join(filmes))"
      ],
      "execution_count": 34,
      "outputs": [
        {
          "output_type": "stream",
          "name": "stdout",
          "text": [
            "Um Sonho de Liberdade\n",
            "Poderoso Chefão\n",
            "Batman: O Cavaleiro das Trevas\n",
            "O Poderoso Chefão II\n",
            "12 Homens e uma Sentença\n",
            "A Lista de Schindler\n",
            "O Senhor dos Anéis: O Retorno do Rei\n",
            "Pulp Fiction: Tempo de Violência\n",
            "Pulp Fiction: Tempo de Violência\n",
            "O Senhor dos Anéis: A Sociedade do Anel\n",
            "O Senhor dos Anéis: A Sociedade do Anel\n",
            "Três Homens em Conflito\n",
            "Três Homens em Conflito\n"
          ]
        }
      ]
    },
    {
      "cell_type": "markdown",
      "metadata": {
        "id": "suxTfCJB6ZiX"
      },
      "source": [
        "Utiliza a conversão `set` e `list` para remover os valores duplicados. Imprima o resultado."
      ]
    },
    {
      "cell_type": "code",
      "metadata": {
        "id": "ZvUGN-0n6joM",
        "colab": {
          "base_uri": "https://localhost:8080/"
        },
        "outputId": "3a1a27f0-5b83-4dd1-ad74-f1de696e94e3"
      },
      "source": [
        "filmes = []\n",
        "filmes.append('Um Sonho de Liberdade')\n",
        "filmes.append('Poderoso Chefão')\n",
        "filmes.append('Batman: O Cavaleiro das Trevas')\n",
        "filmes.append('O Poderoso Chefão II')\n",
        "filmes.append('12 Homens e uma Sentença')\n",
        "filmes.append('A Lista de Schindler')\n",
        "filmes.append('O Senhor dos Anéis: O Retorno do Rei')\n",
        "filmes.append('Pulp Fiction: Tempo de Violência')\n",
        "filmes.append('Pulp Fiction: Tempo de Violência')\n",
        "filmes.append('O Senhor dos Anéis: A Sociedade do Anel')\n",
        "filmes.append('O Senhor dos Anéis: A Sociedade do Anel')\n",
        "filmes.append('Três Homens em Conflito')\n",
        "filmes.append('Três Homens em Conflito')\n",
        "\n",
        "print(list(set(filmes)))"
      ],
      "execution_count": 35,
      "outputs": [
        {
          "output_type": "stream",
          "name": "stdout",
          "text": [
            "['Pulp Fiction: Tempo de Violência', 'Um Sonho de Liberdade', 'Três Homens em Conflito', 'Poderoso Chefão', 'O Senhor dos Anéis: O Retorno do Rei', 'O Senhor dos Anéis: A Sociedade do Anel', 'O Poderoso Chefão II', 'Batman: O Cavaleiro das Trevas', 'A Lista de Schindler', '12 Homens e uma Sentença']\n"
          ]
        }
      ]
    },
    {
      "cell_type": "markdown",
      "metadata": {
        "id": "ShkK35eQ6pAM"
      },
      "source": [
        "---"
      ]
    },
    {
      "cell_type": "markdown",
      "metadata": {
        "id": "EL_FzmxL6rTv"
      },
      "source": [
        "## 3\\. Dicionários"
      ]
    },
    {
      "cell_type": "markdown",
      "metadata": {
        "id": "i8l0gFqRCpfT"
      },
      "source": [
        "Repita os exercícios da parte 1 (listas). Os elementos da lista `filmes` devem ser dicionários no seguinte formato: `{'nome': <nome-do-filme>, 'ano': <ano do filme>, 'sinopse': <sinopse do filme>}`."
      ]
    },
    {
      "cell_type": "code",
      "metadata": {
        "id": "tu6MSFwGDnHv",
        "colab": {
          "base_uri": "https://localhost:8080/"
        },
        "outputId": "099d6b60-9afd-4169-be27-6006e7471da6"
      },
      "source": [
        "#criar lista\n",
        "filmes = [\n",
        "    {'nome': 'Um Sonho de Liberdade', 'ano': 1994,\n",
        "        'sinopse': 'Dois homens presos se reúnem ao longo de vários anos, encontrando consolo e eventual redenção através de atos de decência comum.'},\n",
        "    {'nome': 'O Poderoso Chefão', 'ano': 1972,\n",
        "        'sinopse': 'O patriarca idoso de uma dinastia do crime organizado transfere o controle de seu império clandestino para seu filho relutante.'},\n",
        "    {'nome': 'Batman: O Cavaleiro das Trevas', 'ano': 2008,\n",
        "        'sinopse': 'Quando a ameaça conhecida como O Coringa surge de seu passado, causa estragos e caos nas pessoas de Gotham. O Cavaleiro das Trevas deve aceitar um dos maiores testes para combater a injustiça.'},\n",
        "    {'nome': 'O Poderoso Chefão II', 'ano': 1974, 'sinopse': 'Em 1950, Michael Corleone, agora à frente da família, tenta expandir o negócio do crime a Las Vegas, Los Angeles e Cuba. Paralelamente, é revelada a história de Vito Corleone, e de como saiu da Sicília e chegou a Nova Iorque.'},\n",
        "    {'nome': '12 Homens e uma Sentença', 'ano': 1957,\n",
        "        'sinopse': 'O julgamento de um assassinato em Nova Iorque é frustrado por um único membro, cujo ceticismo força o júri a considerar cuidadosamente as evidências antes de dar o veredito.'},\n",
        "    {'nome': 'A Lista de Schindler', 'ano': 1993, 'sinopse': 'Na Polônia ocupada pelos alemães durante a Segunda Guerra Mundial, o industrial Oskar Schindler começa a ser preocupar com seus trabalhadores judeus depois de testemunhar sua perseguição pelos nazistas.'},\n",
        "    {'nome': 'O Senhor dos Anéis: O Retorno do Rei', 'ano': 2003,\n",
        "        'sinopse': 'Gandalf e Aragorn lideram o Mundo dos Homens contra o exército de Sauron para desviar o olhar de Frodo e Sam quando eles se aproximam á Montanha da Perdição com o Um Anel.'},\n",
        "    {'nome': 'Pulp Fiction: Tempo de Violência', 'ano': 1994,\n",
        "        'sinopse': 'As vidas de dois assassinos da máfia, um boxeador, um gângster e sua esposa, e um par de bandidos se entrelaçam em quatro histórias de violência e redenção.'},\n",
        "    {'nome': 'O Senhor dos Anéis: A Sociedade do Anel', 'ano': 2001,\n",
        "        'sinopse': 'Um manso hobbit do Condado e oito companheiros partem em uma jornada para destruir o poderoso Um Anel e salvar a Terra-média das Trevas.'},\n",
        "    {'nome': 'Três Homens em Conflito', 'ano': 1966,\n",
        "        'sinopse': 'Um impostor se junta com dois homens para encontrar fortuna num remoto cemitério.'},\n",
        "]\n",
        "\n",
        "# Itera sobre a lista de filmes e imprime as informações formatadas\n",
        "for filme in filmes:\n",
        "    print(f\"Nome: {filme['nome']}\\nAno: {filme['ano']}\\nSinopse: {filme['sinopse']}\\n\")"
      ],
      "execution_count": 36,
      "outputs": [
        {
          "output_type": "stream",
          "name": "stdout",
          "text": [
            "Nome: Um Sonho de Liberdade\n",
            "Ano: 1994\n",
            "Sinopse: Dois homens presos se reúnem ao longo de vários anos, encontrando consolo e eventual redenção através de atos de decência comum.\n",
            "\n",
            "Nome: O Poderoso Chefão\n",
            "Ano: 1972\n",
            "Sinopse: O patriarca idoso de uma dinastia do crime organizado transfere o controle de seu império clandestino para seu filho relutante.\n",
            "\n",
            "Nome: Batman: O Cavaleiro das Trevas\n",
            "Ano: 2008\n",
            "Sinopse: Quando a ameaça conhecida como O Coringa surge de seu passado, causa estragos e caos nas pessoas de Gotham. O Cavaleiro das Trevas deve aceitar um dos maiores testes para combater a injustiça.\n",
            "\n",
            "Nome: O Poderoso Chefão II\n",
            "Ano: 1974\n",
            "Sinopse: Em 1950, Michael Corleone, agora à frente da família, tenta expandir o negócio do crime a Las Vegas, Los Angeles e Cuba. Paralelamente, é revelada a história de Vito Corleone, e de como saiu da Sicília e chegou a Nova Iorque.\n",
            "\n",
            "Nome: 12 Homens e uma Sentença\n",
            "Ano: 1957\n",
            "Sinopse: O julgamento de um assassinato em Nova Iorque é frustrado por um único membro, cujo ceticismo força o júri a considerar cuidadosamente as evidências antes de dar o veredito.\n",
            "\n",
            "Nome: A Lista de Schindler\n",
            "Ano: 1993\n",
            "Sinopse: Na Polônia ocupada pelos alemães durante a Segunda Guerra Mundial, o industrial Oskar Schindler começa a ser preocupar com seus trabalhadores judeus depois de testemunhar sua perseguição pelos nazistas.\n",
            "\n",
            "Nome: O Senhor dos Anéis: O Retorno do Rei\n",
            "Ano: 2003\n",
            "Sinopse: Gandalf e Aragorn lideram o Mundo dos Homens contra o exército de Sauron para desviar o olhar de Frodo e Sam quando eles se aproximam á Montanha da Perdição com o Um Anel.\n",
            "\n",
            "Nome: Pulp Fiction: Tempo de Violência\n",
            "Ano: 1994\n",
            "Sinopse: As vidas de dois assassinos da máfia, um boxeador, um gângster e sua esposa, e um par de bandidos se entrelaçam em quatro histórias de violência e redenção.\n",
            "\n",
            "Nome: O Senhor dos Anéis: A Sociedade do Anel\n",
            "Ano: 2001\n",
            "Sinopse: Um manso hobbit do Condado e oito companheiros partem em uma jornada para destruir o poderoso Um Anel e salvar a Terra-média das Trevas.\n",
            "\n",
            "Nome: Três Homens em Conflito\n",
            "Ano: 1966\n",
            "Sinopse: Um impostor se junta com dois homens para encontrar fortuna num remoto cemitério.\n",
            "\n"
          ]
        }
      ]
    },
    {
      "cell_type": "code",
      "source": [
        "#Simule a movimentação do ranking.\n",
        "filmes = [\n",
        "    {'nome': 'Um Sonho de Liberdade', 'ano': 1994,\n",
        "        'sinopse': 'Dois homens presos se reúnem ao longo de vários anos, encontrando consolo e eventual redenção através de atos de decência comum.'},\n",
        "    {'nome': 'O Poderoso Chefão', 'ano': 1972,\n",
        "        'sinopse': 'O patriarca idoso de uma dinastia do crime organizado transfere o controle de seu império clandestino para seu filho relutante.'},\n",
        "    {'nome': 'Batman: O Cavaleiro das Trevas', 'ano': 2008,\n",
        "        'sinopse': 'Quando a ameaça conhecida como O Coringa surge de seu passado, causa estragos e caos nas pessoas de Gotham. O Cavaleiro das Trevas deve aceitar um dos maiores testes para combater a injustiça.'},\n",
        "    {'nome': 'O Poderoso Chefão II', 'ano': 1974, 'sinopse': 'Em 1950, Michael Corleone, agora à frente da família, tenta expandir o negócio do crime a Las Vegas, Los Angeles e Cuba. Paralelamente, é revelada a história de Vito Corleone, e de como saiu da Sicília e chegou a Nova Iorque.'},\n",
        "    {'nome': '12 Homens e uma Sentença', 'ano': 1957,\n",
        "        'sinopse': 'O julgamento de um assassinato em Nova Iorque é frustrado por um único membro, cujo ceticismo força o júri a considerar cuidadosamente as evidências antes de dar o veredito.'},\n",
        "    {'nome': 'A Lista de Schindler', 'ano': 1993, 'sinopse': 'Na Polônia ocupada pelos alemães durante a Segunda Guerra Mundial, o industrial Oskar Schindler começa a ser preocupar com seus trabalhadores judeus depois de testemunhar sua perseguição pelos nazistas.'},\n",
        "    {'nome': 'O Senhor dos Anéis: O Retorno do Rei', 'ano': 2003,\n",
        "        'sinopse': 'Gandalf e Aragorn lideram o Mundo dos Homens contra o exército de Sauron para desviar o olhar de Frodo e Sam quando eles se aproximam á Montanha da Perdição com o Um Anel.'},\n",
        "    {'nome': 'Pulp Fiction: Tempo de Violência', 'ano': 1994,\n",
        "        'sinopse': 'As vidas de dois assassinos da máfia, um boxeador, um gângster e sua esposa, e um par de bandidos se entrelaçam em quatro histórias de violência e redenção.'},\n",
        "    {'nome': 'O Senhor dos Anéis: A Sociedade do Anel', 'ano': 2001,\n",
        "        'sinopse': 'Um manso hobbit do Condado e oito companheiros partem em uma jornada para destruir o poderoso Um Anel e salvar a Terra-média das Trevas.'},\n",
        "    {'nome': 'Três Homens em Conflito', 'ano': 1966,\n",
        "        'sinopse': 'Um impostor se junta com dois homens para encontrar fortuna num remoto cemitério.'},\n",
        "]\n",
        "\n",
        "# Troca os filmes 1 e 2 (índices 0 e 1)\n",
        "filmes[0], filmes[1] = filmes[1], filmes[0]\n",
        "\n",
        "# Itera sobre a lista de filmes e imprime as informações formatadas\n",
        "for filme in filmes:\n",
        "    print(f\"Nome: {filme['nome']}\\nAno: {filme['ano']}\\nSinopse: {filme['sinopse']}\\n\")"
      ],
      "metadata": {
        "colab": {
          "base_uri": "https://localhost:8080/"
        },
        "id": "rHt2xz3b-4ae",
        "outputId": "1622ff9d-d4f5-46e0-ed7e-17d24c6adbfb"
      },
      "execution_count": 37,
      "outputs": [
        {
          "output_type": "stream",
          "name": "stdout",
          "text": [
            "Nome: O Poderoso Chefão\n",
            "Ano: 1972\n",
            "Sinopse: O patriarca idoso de uma dinastia do crime organizado transfere o controle de seu império clandestino para seu filho relutante.\n",
            "\n",
            "Nome: Um Sonho de Liberdade\n",
            "Ano: 1994\n",
            "Sinopse: Dois homens presos se reúnem ao longo de vários anos, encontrando consolo e eventual redenção através de atos de decência comum.\n",
            "\n",
            "Nome: Batman: O Cavaleiro das Trevas\n",
            "Ano: 2008\n",
            "Sinopse: Quando a ameaça conhecida como O Coringa surge de seu passado, causa estragos e caos nas pessoas de Gotham. O Cavaleiro das Trevas deve aceitar um dos maiores testes para combater a injustiça.\n",
            "\n",
            "Nome: O Poderoso Chefão II\n",
            "Ano: 1974\n",
            "Sinopse: Em 1950, Michael Corleone, agora à frente da família, tenta expandir o negócio do crime a Las Vegas, Los Angeles e Cuba. Paralelamente, é revelada a história de Vito Corleone, e de como saiu da Sicília e chegou a Nova Iorque.\n",
            "\n",
            "Nome: 12 Homens e uma Sentença\n",
            "Ano: 1957\n",
            "Sinopse: O julgamento de um assassinato em Nova Iorque é frustrado por um único membro, cujo ceticismo força o júri a considerar cuidadosamente as evidências antes de dar o veredito.\n",
            "\n",
            "Nome: A Lista de Schindler\n",
            "Ano: 1993\n",
            "Sinopse: Na Polônia ocupada pelos alemães durante a Segunda Guerra Mundial, o industrial Oskar Schindler começa a ser preocupar com seus trabalhadores judeus depois de testemunhar sua perseguição pelos nazistas.\n",
            "\n",
            "Nome: O Senhor dos Anéis: O Retorno do Rei\n",
            "Ano: 2003\n",
            "Sinopse: Gandalf e Aragorn lideram o Mundo dos Homens contra o exército de Sauron para desviar o olhar de Frodo e Sam quando eles se aproximam á Montanha da Perdição com o Um Anel.\n",
            "\n",
            "Nome: Pulp Fiction: Tempo de Violência\n",
            "Ano: 1994\n",
            "Sinopse: As vidas de dois assassinos da máfia, um boxeador, um gângster e sua esposa, e um par de bandidos se entrelaçam em quatro histórias de violência e redenção.\n",
            "\n",
            "Nome: O Senhor dos Anéis: A Sociedade do Anel\n",
            "Ano: 2001\n",
            "Sinopse: Um manso hobbit do Condado e oito companheiros partem em uma jornada para destruir o poderoso Um Anel e salvar a Terra-média das Trevas.\n",
            "\n",
            "Nome: Três Homens em Conflito\n",
            "Ano: 1966\n",
            "Sinopse: Um impostor se junta com dois homens para encontrar fortuna num remoto cemitério.\n",
            "\n"
          ]
        }
      ]
    }
  ]
}