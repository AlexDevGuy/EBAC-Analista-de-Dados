{
  "nbformat": 4,
  "nbformat_minor": 0,
  "metadata": {
    "colab": {
      "provenance": [],
      "collapsed_sections": [
        "JG1HL69-j0lH",
        "s_Dj-BgThLg5",
        "jeEzLmuRhDQy",
        "PoTeRwlihDQ0",
        "QpMlxqRyhDQ1",
        "ov7Fg-mWhDQ1",
        "DvHPNAoPgdiG",
        "3SMp5GwjglJm",
        "e3ieQfXTgqd3",
        "L0pKWNr5fm9z",
        "DMhCpOU_gupo",
        "l3h0WP2Eg2ht",
        "rWG4Vk6XaWtf",
        "wkibgd8rB8y3",
        "IjPaJtnYE0MI",
        "2lpj1rszc--m",
        "HnWg_mhLd5gC",
        "RhqmXiHQo-is",
        "SvT9xrajLL7J",
        "91eSyA2cLLqv"
      ]
    },
    "kernelspec": {
      "name": "python3",
      "display_name": "Python 3"
    }
  },
  "cells": [
    {
      "cell_type": "markdown",
      "metadata": {
        "id": "KJqp9AANOCtf"
      },
      "source": [
        "<img src=\"https://raw.githubusercontent.com/andre-marcos-perez/ebac-course-utils/main/media/logo/newebac_logo_black_half.png\" alt=\"ebac-logo\">\n",
        "\n",
        "---\n",
        "\n",
        "# **Módulo** | Computação em Nuvem III\n",
        "Caderno de **Exercícios**<br>\n",
        "Professor [André Perez](https://www.linkedin.com/in/andremarcosperez/)\n",
        "\n",
        "---"
      ]
    },
    {
      "cell_type": "markdown",
      "metadata": {
        "id": "d9jDtUbDOE1-"
      },
      "source": [
        "# **Tópicos**\n",
        "\n",
        "<ol type=\"1\">\n",
        "  <li>Introdução;</li>\n",
        "  <li>Apache Spark;</li>\n",
        "  <li>Data Wrangling com Spark.</li>\n",
        "</ol>"
      ]
    },
    {
      "cell_type": "markdown",
      "metadata": {
        "id": "SmoHgt-lwkpD"
      },
      "source": [
        "---"
      ]
    },
    {
      "cell_type": "markdown",
      "metadata": {
        "id": "GABI6OW8OfQ2"
      },
      "source": [
        "# **Exercícios**"
      ]
    },
    {
      "cell_type": "markdown",
      "metadata": {
        "id": "ne7Ay0HKaGSv"
      },
      "source": [
        "## 1\\. Apache Spark"
      ]
    },
    {
      "cell_type": "markdown",
      "metadata": {
        "id": "OQxOVktrzG9I"
      },
      "source": [
        "Replique as atividades do item 2.1 e 2.2 para instalar e configurar um cluster Apache Spark na máquina virtual do Google Colab."
      ]
    },
    {
      "cell_type": "markdown",
      "source": [
        "* Download do Spark, versão 3.0.0."
      ],
      "metadata": {
        "id": "IScgVDyz7Ubv"
      }
    },
    {
      "cell_type": "code",
      "source": [
        "%%capture\n",
        "!wget -q https://archive.apache.org/dist/spark/spark-3.0.0/spark-3.0.0-bin-hadoop2.7.tgz\n",
        "!tar xf spark-3.0.0-bin-hadoop2.7.tgz && rm spark-3.0.0-bin-hadoop2.7.tgz"
      ],
      "metadata": {
        "id": "OyJJphcJ7Wzi"
      },
      "execution_count": 1,
      "outputs": []
    },
    {
      "cell_type": "markdown",
      "source": [
        "* Download e instalação do Java, versão 8."
      ],
      "metadata": {
        "id": "fvZAlcw97hNS"
      }
    },
    {
      "cell_type": "code",
      "source": [
        "%%capture\n",
        "!apt-get remove openjdk*\n",
        "!apt-get update --fix-missing\n",
        "!apt-get install openjdk-8-jdk-headless -qq > /dev/null"
      ],
      "metadata": {
        "id": "dDJMr-Ba7isQ"
      },
      "execution_count": 2,
      "outputs": []
    },
    {
      "cell_type": "markdown",
      "source": [
        "* Instalação do PySpark."
      ],
      "metadata": {
        "id": "oh4-TXE-7w7q"
      }
    },
    {
      "cell_type": "code",
      "source": [
        "!pip install -q pyspark==3.0.0"
      ],
      "metadata": {
        "colab": {
          "base_uri": "https://localhost:8080/"
        },
        "id": "JxBnQ5Gg7yZq",
        "outputId": "d5a9dbd9-85f8-4423-b459-3e172dc7dd51"
      },
      "execution_count": 3,
      "outputs": [
        {
          "output_type": "stream",
          "name": "stdout",
          "text": [
            "\u001b[2K     \u001b[90m━━━━━━━━━━━━━━━━━━━━━━━━━━━━━━━━━━━━━━━━\u001b[0m \u001b[32m204.7/204.7 MB\u001b[0m \u001b[31m4.4 MB/s\u001b[0m eta \u001b[36m0:00:00\u001b[0m\n",
            "\u001b[?25h  Preparing metadata (setup.py) ... \u001b[?25l\u001b[?25hdone\n",
            "\u001b[2K     \u001b[90m━━━━━━━━━━━━━━━━━━━━━━━━━━━━━━━━━━━━━━━━\u001b[0m \u001b[32m198.6/198.6 kB\u001b[0m \u001b[31m19.6 MB/s\u001b[0m eta \u001b[36m0:00:00\u001b[0m\n",
            "\u001b[?25h  Building wheel for pyspark (setup.py) ... \u001b[?25l\u001b[?25hdone\n"
          ]
        }
      ]
    },
    {
      "cell_type": "markdown",
      "source": [
        "* Definindo caminho das variáveis de ambiente."
      ],
      "metadata": {
        "id": "8Nn_SDJv76AW"
      }
    },
    {
      "cell_type": "code",
      "source": [
        "import os\n",
        "\n",
        "os.environ[\"JAVA_HOME\"] = \"/usr/lib/jvm/java-8-openjdk-amd64\"\n",
        "os.environ[\"SPARK_HOME\"] = \"/content/spark-3.0.0-bin-hadoop2.7\""
      ],
      "metadata": {
        "id": "1hZwny3077zY"
      },
      "execution_count": 4,
      "outputs": []
    },
    {
      "cell_type": "markdown",
      "source": [
        "* Instalação do pacote FindSpark."
      ],
      "metadata": {
        "id": "hNoBRT5N8BGd"
      }
    },
    {
      "cell_type": "code",
      "source": [
        "!pip install -q findspark==1.4.2"
      ],
      "metadata": {
        "id": "L5MFHhso8DAw"
      },
      "execution_count": 5,
      "outputs": []
    },
    {
      "cell_type": "markdown",
      "source": [
        "* Injetando as variáveis de ambiente JAVA_HOME e SPARK_HOME no ambiente de execução Python."
      ],
      "metadata": {
        "id": "rddxOz218MDM"
      }
    },
    {
      "cell_type": "code",
      "source": [
        "import findspark\n",
        "\n",
        "findspark.init()"
      ],
      "metadata": {
        "id": "-9VI1UJV8NbB"
      },
      "execution_count": 6,
      "outputs": []
    },
    {
      "cell_type": "markdown",
      "source": [
        "* Criando aplicação Spark."
      ],
      "metadata": {
        "id": "12S_AsYO8P9M"
      }
    },
    {
      "cell_type": "code",
      "source": [
        "from pyspark.sql import SparkSession\n",
        "\n",
        "spark = SparkSession.builder.master(\"local[*]\").appName(\"pyspark-notebook\").getOrCreate()"
      ],
      "metadata": {
        "id": "QeMewpSd8YjP"
      },
      "execution_count": 7,
      "outputs": []
    },
    {
      "cell_type": "markdown",
      "metadata": {
        "id": "EvJTE2FpaGeU"
      },
      "source": [
        "## 2\\. Data Wrangling"
      ]
    },
    {
      "cell_type": "markdown",
      "metadata": {
        "id": "ISYXZbomlb1x"
      },
      "source": [
        "A base de dados presente neste [link](https://www.kaggle.com/datasets/bank-of-england/a-millennium-of-macroeconomic-data) contem dados macroeconômicos sobre o Reino Unido desde o século 13."
      ]
    },
    {
      "cell_type": "markdown",
      "source": [
        "**2.1\\. Data**"
      ],
      "metadata": {
        "id": "gw9qU6sLipWv"
      }
    },
    {
      "cell_type": "markdown",
      "source": [
        "Faça o download dos dados utilizando a máquina virutal do Google Colab com o código abaixo."
      ],
      "metadata": {
        "id": "1hnomN0NmgFY"
      }
    },
    {
      "cell_type": "code",
      "source": [
        "!wget -q \"https://raw.githubusercontent.com/cluster-apps-on-docker/spark-standalone-cluster-on-docker/master/build/workspace/data/uk-macroeconomic-data.csv\" -O \"uk-macroeconomic-data.csv\""
      ],
      "metadata": {
        "id": "D7kgFvnoklGX"
      },
      "execution_count": 8,
      "outputs": []
    },
    {
      "cell_type": "markdown",
      "source": [
        "**2.2. Wrangling**"
      ],
      "metadata": {
        "id": "b-I1dUa0iyE1"
      }
    },
    {
      "cell_type": "markdown",
      "source": [
        "Processe os dados para que a base de dados final apresente os valores da taxa de desemprego (`Unemployment rate`) e população (`Population (GB+NI)`) estejam ordenados por ano decrescente:"
      ],
      "metadata": {
        "id": "RONWLjqgkr5B"
      }
    },
    {
      "cell_type": "markdown",
      "source": [
        "```csv\n",
        "year,population,unemployment_rate\n",
        "...,...,...\n",
        "```"
      ],
      "metadata": {
        "id": "mr-NTxnalqIm"
      }
    },
    {
      "cell_type": "markdown",
      "source": [
        "Para isso, utilize:"
      ],
      "metadata": {
        "id": "snONpcdtlpQu"
      }
    },
    {
      "cell_type": "markdown",
      "source": [
        " - Pandas"
      ],
      "metadata": {
        "id": "nHY3jlCrkuN8"
      }
    },
    {
      "cell_type": "code",
      "source": [
        "#Importando o pacote\n",
        "import pandas as pd"
      ],
      "metadata": {
        "id": "2BUN93hGkyMZ"
      },
      "execution_count": 9,
      "outputs": []
    },
    {
      "cell_type": "code",
      "source": [
        "#Criando o DataFrame\n",
        "pandas_data = pd.read_csv('uk-macroeconomic-data.csv')\n",
        "\n",
        "#Selecionando as colunas\n",
        "pandas_data = pandas_data.loc[:,('Description', 'Population (GB+NI)', 'Unemployment rate')]\n",
        "\n",
        "#Renomeando as colunas\n",
        "pandas_data.rename(columns= { 'Description': 'Ano', 'Population (GB+NI)': 'População', 'Unemployment rate': 'Taxa de desemprego'}, inplace=True)\n",
        "\n",
        "#Limpando e ordenando os dados\n",
        "pandas_data = pandas_data.dropna().drop(0).sort_values(by='Ano', ascending=False, ignore_index=True)\n",
        "\n",
        "#Visualizando os dados\n",
        "pandas_data.head(5)"
      ],
      "metadata": {
        "colab": {
          "base_uri": "https://localhost:8080/",
          "height": 206
        },
        "id": "GGWAbZXQAavm",
        "outputId": "8bff3e50-4ffb-4f00-ebff-0dd76035d324"
      },
      "execution_count": 11,
      "outputs": [
        {
          "output_type": "execute_result",
          "data": {
            "text/plain": [
              "    Ano População Taxa de desemprego\n",
              "0  2016     65573               4.90\n",
              "1  2015     65110               5.38\n",
              "2  2014     64597               6.18\n",
              "3  2013     64106               7.61\n",
              "4  2012     63705               7.97"
            ],
            "text/html": [
              "\n",
              "  <div id=\"df-f88ff5c7-9c4c-4d7e-8033-8062607f8215\" class=\"colab-df-container\">\n",
              "    <div>\n",
              "<style scoped>\n",
              "    .dataframe tbody tr th:only-of-type {\n",
              "        vertical-align: middle;\n",
              "    }\n",
              "\n",
              "    .dataframe tbody tr th {\n",
              "        vertical-align: top;\n",
              "    }\n",
              "\n",
              "    .dataframe thead th {\n",
              "        text-align: right;\n",
              "    }\n",
              "</style>\n",
              "<table border=\"1\" class=\"dataframe\">\n",
              "  <thead>\n",
              "    <tr style=\"text-align: right;\">\n",
              "      <th></th>\n",
              "      <th>Ano</th>\n",
              "      <th>População</th>\n",
              "      <th>Taxa de desemprego</th>\n",
              "    </tr>\n",
              "  </thead>\n",
              "  <tbody>\n",
              "    <tr>\n",
              "      <th>0</th>\n",
              "      <td>2016</td>\n",
              "      <td>65573</td>\n",
              "      <td>4.90</td>\n",
              "    </tr>\n",
              "    <tr>\n",
              "      <th>1</th>\n",
              "      <td>2015</td>\n",
              "      <td>65110</td>\n",
              "      <td>5.38</td>\n",
              "    </tr>\n",
              "    <tr>\n",
              "      <th>2</th>\n",
              "      <td>2014</td>\n",
              "      <td>64597</td>\n",
              "      <td>6.18</td>\n",
              "    </tr>\n",
              "    <tr>\n",
              "      <th>3</th>\n",
              "      <td>2013</td>\n",
              "      <td>64106</td>\n",
              "      <td>7.61</td>\n",
              "    </tr>\n",
              "    <tr>\n",
              "      <th>4</th>\n",
              "      <td>2012</td>\n",
              "      <td>63705</td>\n",
              "      <td>7.97</td>\n",
              "    </tr>\n",
              "  </tbody>\n",
              "</table>\n",
              "</div>\n",
              "    <div class=\"colab-df-buttons\">\n",
              "\n",
              "  <div class=\"colab-df-container\">\n",
              "    <button class=\"colab-df-convert\" onclick=\"convertToInteractive('df-f88ff5c7-9c4c-4d7e-8033-8062607f8215')\"\n",
              "            title=\"Convert this dataframe to an interactive table.\"\n",
              "            style=\"display:none;\">\n",
              "\n",
              "  <svg xmlns=\"http://www.w3.org/2000/svg\" height=\"24px\" viewBox=\"0 -960 960 960\">\n",
              "    <path d=\"M120-120v-720h720v720H120Zm60-500h600v-160H180v160Zm220 220h160v-160H400v160Zm0 220h160v-160H400v160ZM180-400h160v-160H180v160Zm440 0h160v-160H620v160ZM180-180h160v-160H180v160Zm440 0h160v-160H620v160Z\"/>\n",
              "  </svg>\n",
              "    </button>\n",
              "\n",
              "  <style>\n",
              "    .colab-df-container {\n",
              "      display:flex;\n",
              "      gap: 12px;\n",
              "    }\n",
              "\n",
              "    .colab-df-convert {\n",
              "      background-color: #E8F0FE;\n",
              "      border: none;\n",
              "      border-radius: 50%;\n",
              "      cursor: pointer;\n",
              "      display: none;\n",
              "      fill: #1967D2;\n",
              "      height: 32px;\n",
              "      padding: 0 0 0 0;\n",
              "      width: 32px;\n",
              "    }\n",
              "\n",
              "    .colab-df-convert:hover {\n",
              "      background-color: #E2EBFA;\n",
              "      box-shadow: 0px 1px 2px rgba(60, 64, 67, 0.3), 0px 1px 3px 1px rgba(60, 64, 67, 0.15);\n",
              "      fill: #174EA6;\n",
              "    }\n",
              "\n",
              "    .colab-df-buttons div {\n",
              "      margin-bottom: 4px;\n",
              "    }\n",
              "\n",
              "    [theme=dark] .colab-df-convert {\n",
              "      background-color: #3B4455;\n",
              "      fill: #D2E3FC;\n",
              "    }\n",
              "\n",
              "    [theme=dark] .colab-df-convert:hover {\n",
              "      background-color: #434B5C;\n",
              "      box-shadow: 0px 1px 3px 1px rgba(0, 0, 0, 0.15);\n",
              "      filter: drop-shadow(0px 1px 2px rgba(0, 0, 0, 0.3));\n",
              "      fill: #FFFFFF;\n",
              "    }\n",
              "  </style>\n",
              "\n",
              "    <script>\n",
              "      const buttonEl =\n",
              "        document.querySelector('#df-f88ff5c7-9c4c-4d7e-8033-8062607f8215 button.colab-df-convert');\n",
              "      buttonEl.style.display =\n",
              "        google.colab.kernel.accessAllowed ? 'block' : 'none';\n",
              "\n",
              "      async function convertToInteractive(key) {\n",
              "        const element = document.querySelector('#df-f88ff5c7-9c4c-4d7e-8033-8062607f8215');\n",
              "        const dataTable =\n",
              "          await google.colab.kernel.invokeFunction('convertToInteractive',\n",
              "                                                    [key], {});\n",
              "        if (!dataTable) return;\n",
              "\n",
              "        const docLinkHtml = 'Like what you see? Visit the ' +\n",
              "          '<a target=\"_blank\" href=https://colab.research.google.com/notebooks/data_table.ipynb>data table notebook</a>'\n",
              "          + ' to learn more about interactive tables.';\n",
              "        element.innerHTML = '';\n",
              "        dataTable['output_type'] = 'display_data';\n",
              "        await google.colab.output.renderOutput(dataTable, element);\n",
              "        const docLink = document.createElement('div');\n",
              "        docLink.innerHTML = docLinkHtml;\n",
              "        element.appendChild(docLink);\n",
              "      }\n",
              "    </script>\n",
              "  </div>\n",
              "\n",
              "\n",
              "<div id=\"df-6b8c3058-cfd6-4006-92ad-1d2870728767\">\n",
              "  <button class=\"colab-df-quickchart\" onclick=\"quickchart('df-6b8c3058-cfd6-4006-92ad-1d2870728767')\"\n",
              "            title=\"Suggest charts\"\n",
              "            style=\"display:none;\">\n",
              "\n",
              "<svg xmlns=\"http://www.w3.org/2000/svg\" height=\"24px\"viewBox=\"0 0 24 24\"\n",
              "     width=\"24px\">\n",
              "    <g>\n",
              "        <path d=\"M19 3H5c-1.1 0-2 .9-2 2v14c0 1.1.9 2 2 2h14c1.1 0 2-.9 2-2V5c0-1.1-.9-2-2-2zM9 17H7v-7h2v7zm4 0h-2V7h2v10zm4 0h-2v-4h2v4z\"/>\n",
              "    </g>\n",
              "</svg>\n",
              "  </button>\n",
              "\n",
              "<style>\n",
              "  .colab-df-quickchart {\n",
              "      --bg-color: #E8F0FE;\n",
              "      --fill-color: #1967D2;\n",
              "      --hover-bg-color: #E2EBFA;\n",
              "      --hover-fill-color: #174EA6;\n",
              "      --disabled-fill-color: #AAA;\n",
              "      --disabled-bg-color: #DDD;\n",
              "  }\n",
              "\n",
              "  [theme=dark] .colab-df-quickchart {\n",
              "      --bg-color: #3B4455;\n",
              "      --fill-color: #D2E3FC;\n",
              "      --hover-bg-color: #434B5C;\n",
              "      --hover-fill-color: #FFFFFF;\n",
              "      --disabled-bg-color: #3B4455;\n",
              "      --disabled-fill-color: #666;\n",
              "  }\n",
              "\n",
              "  .colab-df-quickchart {\n",
              "    background-color: var(--bg-color);\n",
              "    border: none;\n",
              "    border-radius: 50%;\n",
              "    cursor: pointer;\n",
              "    display: none;\n",
              "    fill: var(--fill-color);\n",
              "    height: 32px;\n",
              "    padding: 0;\n",
              "    width: 32px;\n",
              "  }\n",
              "\n",
              "  .colab-df-quickchart:hover {\n",
              "    background-color: var(--hover-bg-color);\n",
              "    box-shadow: 0 1px 2px rgba(60, 64, 67, 0.3), 0 1px 3px 1px rgba(60, 64, 67, 0.15);\n",
              "    fill: var(--button-hover-fill-color);\n",
              "  }\n",
              "\n",
              "  .colab-df-quickchart-complete:disabled,\n",
              "  .colab-df-quickchart-complete:disabled:hover {\n",
              "    background-color: var(--disabled-bg-color);\n",
              "    fill: var(--disabled-fill-color);\n",
              "    box-shadow: none;\n",
              "  }\n",
              "\n",
              "  .colab-df-spinner {\n",
              "    border: 2px solid var(--fill-color);\n",
              "    border-color: transparent;\n",
              "    border-bottom-color: var(--fill-color);\n",
              "    animation:\n",
              "      spin 1s steps(1) infinite;\n",
              "  }\n",
              "\n",
              "  @keyframes spin {\n",
              "    0% {\n",
              "      border-color: transparent;\n",
              "      border-bottom-color: var(--fill-color);\n",
              "      border-left-color: var(--fill-color);\n",
              "    }\n",
              "    20% {\n",
              "      border-color: transparent;\n",
              "      border-left-color: var(--fill-color);\n",
              "      border-top-color: var(--fill-color);\n",
              "    }\n",
              "    30% {\n",
              "      border-color: transparent;\n",
              "      border-left-color: var(--fill-color);\n",
              "      border-top-color: var(--fill-color);\n",
              "      border-right-color: var(--fill-color);\n",
              "    }\n",
              "    40% {\n",
              "      border-color: transparent;\n",
              "      border-right-color: var(--fill-color);\n",
              "      border-top-color: var(--fill-color);\n",
              "    }\n",
              "    60% {\n",
              "      border-color: transparent;\n",
              "      border-right-color: var(--fill-color);\n",
              "    }\n",
              "    80% {\n",
              "      border-color: transparent;\n",
              "      border-right-color: var(--fill-color);\n",
              "      border-bottom-color: var(--fill-color);\n",
              "    }\n",
              "    90% {\n",
              "      border-color: transparent;\n",
              "      border-bottom-color: var(--fill-color);\n",
              "    }\n",
              "  }\n",
              "</style>\n",
              "\n",
              "  <script>\n",
              "    async function quickchart(key) {\n",
              "      const quickchartButtonEl =\n",
              "        document.querySelector('#' + key + ' button');\n",
              "      quickchartButtonEl.disabled = true;  // To prevent multiple clicks.\n",
              "      quickchartButtonEl.classList.add('colab-df-spinner');\n",
              "      try {\n",
              "        const charts = await google.colab.kernel.invokeFunction(\n",
              "            'suggestCharts', [key], {});\n",
              "      } catch (error) {\n",
              "        console.error('Error during call to suggestCharts:', error);\n",
              "      }\n",
              "      quickchartButtonEl.classList.remove('colab-df-spinner');\n",
              "      quickchartButtonEl.classList.add('colab-df-quickchart-complete');\n",
              "    }\n",
              "    (() => {\n",
              "      let quickchartButtonEl =\n",
              "        document.querySelector('#df-6b8c3058-cfd6-4006-92ad-1d2870728767 button');\n",
              "      quickchartButtonEl.style.display =\n",
              "        google.colab.kernel.accessAllowed ? 'block' : 'none';\n",
              "    })();\n",
              "  </script>\n",
              "</div>\n",
              "\n",
              "    </div>\n",
              "  </div>\n"
            ],
            "application/vnd.google.colaboratory.intrinsic+json": {
              "type": "dataframe",
              "variable_name": "pandas_data",
              "summary": "{\n  \"name\": \"pandas_data\",\n  \"rows\": 162,\n  \"fields\": [\n    {\n      \"column\": \"Ano\",\n      \"properties\": {\n        \"dtype\": \"object\",\n        \"num_unique_values\": 162,\n        \"samples\": [\n          \"1858\",\n          \"1907\",\n          \"1885\"\n        ],\n        \"semantic_type\": \"\",\n        \"description\": \"\"\n      }\n    },\n    {\n      \"column\": \"Popula\\u00e7\\u00e3o\",\n      \"properties\": {\n        \"dtype\": \"string\",\n        \"num_unique_values\": 162,\n        \"samples\": [\n          \"23914\",\n          \"40593\",\n          \"32353\"\n        ],\n        \"semantic_type\": \"\",\n        \"description\": \"\"\n      }\n    },\n    {\n      \"column\": \"Taxa de desemprego\",\n      \"properties\": {\n        \"dtype\": \"string\",\n        \"num_unique_values\": 144,\n        \"samples\": [\n          \"6.06\",\n          \"8.10\",\n          \"11.10\"\n        ],\n        \"semantic_type\": \"\",\n        \"description\": \"\"\n      }\n    }\n  ]\n}"
            }
          },
          "metadata": {},
          "execution_count": 11
        }
      ]
    },
    {
      "cell_type": "markdown",
      "source": [
        " - PySpark"
      ],
      "metadata": {
        "id": "yswaBr3JkxHq"
      }
    },
    {
      "cell_type": "code",
      "source": [
        "#Criando o DataFrame\n",
        "pyspark_data = spark.read.csv(path='uk-macroeconomic-data.csv', sep=',', header=True)\n",
        "\n",
        "#Selecionando as colunas\n",
        "pyspark_data = pyspark_data.select(['Description', 'Population (GB+NI)', 'Unemployment rate'])\n",
        "\n",
        "#Renomeando as colunas\n",
        "pyspark_data = pyspark_data.withColumnRenamed('Description', 'Ano').withColumnRenamed('Population (GB+NI)', 'População').withColumnRenamed('Unemployment rate', 'Taxa de desemprego')\n",
        "\n",
        "#Limpando e ordenando os dados\n",
        "pyspark_data = pyspark_data.dropna().filter(pyspark_data['Ano'] !='Units').orderBy(pyspark_data['Ano'].desc())\n",
        "\n",
        "#Visualizando os dados\n",
        "pyspark_data.show(5)"
      ],
      "metadata": {
        "id": "GmQoR-hfk1Mv",
        "colab": {
          "base_uri": "https://localhost:8080/"
        },
        "outputId": "825f7e3a-4c37-46f2-c883-f57b864c6ce6"
      },
      "execution_count": 13,
      "outputs": [
        {
          "output_type": "stream",
          "name": "stdout",
          "text": [
            "+----+---------+------------------+\n",
            "| Ano|População|Taxa de desemprego|\n",
            "+----+---------+------------------+\n",
            "|2016|    65573|              4.90|\n",
            "|2015|    65110|              5.38|\n",
            "|2014|    64597|              6.18|\n",
            "|2013|    64106|              7.61|\n",
            "|2012|    63705|              7.97|\n",
            "+----+---------+------------------+\n",
            "only showing top 5 rows\n",
            "\n"
          ]
        }
      ]
    }
  ]
}