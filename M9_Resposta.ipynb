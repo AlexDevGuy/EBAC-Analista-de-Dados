{
  "nbformat": 4,
  "nbformat_minor": 0,
  "metadata": {
    "colab": {
      "provenance": [],
      "toc_visible": true
    },
    "kernelspec": {
      "name": "python3",
      "display_name": "Python 3"
    }
  },
  "cells": [
    {
      "cell_type": "markdown",
      "metadata": {
        "id": "KJqp9AANOCtf"
      },
      "source": [
        "<img src=\"https://raw.githubusercontent.com/andre-marcos-perez/ebac-course-utils/main/media/logo/newebac_logo_black_half.png\" alt=\"ebac-logo\">\n",
        "\n",
        "---\n",
        "\n",
        "# **Módulo** | Python: Scripting\n",
        "Caderno de **Exercícios**<br>\n",
        "Professor [André Perez](https://www.linkedin.com/in/andremarcosperez/)\n",
        "\n",
        "---"
      ]
    },
    {
      "cell_type": "markdown",
      "metadata": {
        "id": "d9jDtUbDOE1-"
      },
      "source": [
        "# **Tópicos**\n",
        "\n",
        "<ol type=\"1\">\n",
        "  <li>Instalando o Python na própria máquina;</li>\n",
        "  <li>Executando código Python no terminal;</li>\n",
        "  <li>Criando arquivos de script Python.</li>\n",
        "</ol>"
      ]
    },
    {
      "cell_type": "markdown",
      "metadata": {
        "id": "SmoHgt-lwkpD"
      },
      "source": [
        "---"
      ]
    },
    {
      "cell_type": "markdown",
      "metadata": {
        "id": "GABI6OW8OfQ2"
      },
      "source": [
        "# **Exercícios**"
      ]
    },
    {
      "cell_type": "markdown",
      "metadata": {
        "id": "muD1vxozykSC"
      },
      "source": [
        "## 0\\. Preparando o ambiente"
      ]
    },
    {
      "cell_type": "markdown",
      "metadata": {
        "id": "4TT1IaG2DOuR"
      },
      "source": [
        " - Instalando o Python e o PIP na sua máquina."
      ]
    },
    {
      "cell_type": "markdown",
      "metadata": {
        "id": "eTI82AggBgY3"
      },
      "source": [
        "Nestes exercícios você vai precisar do Python (versão 3.x) e do PIP instalados na sua máquina. Abra o seu terminal (windows `cmd` ou linux/mcos `terminal`) e\n",
        "verifique se ambos estão instalados na sua máquina.\n",
        "\n",
        "```shell\n",
        "python -V # possível resultado: Python 3.8.5\n",
        "pip -V # possível resultado: pip 20.0.2 ...\n",
        "```\n",
        "\n",
        "Se pelo menos um dos softwares não estiver instalados na sua máquina, siga as instruções da aula para instala-los. Se você tiver enfrentando algum problema, entre em contato com o tutor."
      ]
    },
    {
      "cell_type": "markdown",
      "metadata": {
        "id": "PfJij-X6DS3o"
      },
      "source": [
        " - Instalando os pacotes necessários."
      ]
    },
    {
      "cell_type": "markdown",
      "metadata": {
        "id": "qfhQuCEaDb3H"
      },
      "source": [
        "Instale os pacotes necessários para conduzir os exercícios.\n",
        "\n",
        "```shell\n",
        "pip install pandas==1.2.4 seaborn==0.11.1 requests==2.25.1\n",
        "```"
      ]
    },
    {
      "cell_type": "markdown",
      "metadata": {
        "id": "zMN1Q3jdwoJm"
      },
      "source": [
        "---"
      ]
    },
    {
      "cell_type": "markdown",
      "metadata": {
        "id": "GWgNoJN8DHyY"
      },
      "source": [
        "## 1\\. Script de Extração"
      ]
    },
    {
      "cell_type": "markdown",
      "metadata": {
        "id": "YynK1vf2DHyj"
      },
      "source": [
        "O *script* para extrair a taxa CDI do site da B3 foi adaptado para ser executado 10 vezes para gerar nossa base de dados. Na sua máquina, crie o arquivo `extracao.py` com o `script` abaixo e execute-o com o comando:\n",
        "\n",
        "```shell\n",
        "python extracao.py\n",
        "```\n",
        "\n",
        "No final, você deve ter o arquivo `taxa-cdi.csv` com os dados extraídos."
      ]
    },
    {
      "cell_type": "code",
      "metadata": {
        "id": "hVK8QyFvE-wk"
      },
      "source": [
        "import os\n",
        "import time\n",
        "import json\n",
        "from random import random\n",
        "from datetime import datetime\n",
        "\n",
        "import requests\n",
        "\n",
        "URL = 'https://www2.cetip.com.br/ConsultarTaxaDi/ConsultarTaxaDICetip.aspx'\n",
        "\n",
        "# Criando a variável data e hora\n",
        "\n",
        "for _ in range(0, 10):\n",
        "\n",
        "  data_e_hora = datetime.now()\n",
        "  data = datetime.strftime(data_e_hora, '%Y/%m/%d')\n",
        "  hora = datetime.strftime(data_e_hora, '%H:%M:%S')\n",
        "\n",
        "  # Captando a taxa CDI do site da B3\n",
        "\n",
        "  try:\n",
        "    response = requests.get(URL)\n",
        "    response.raise_for_status()\n",
        "  except requests.HTTPError as exc:\n",
        "    print(\"Dado não encontrado, continuando.\")\n",
        "    cdi = None\n",
        "  except Exception as exc:\n",
        "    print(\"Erro, parando a execução.\")\n",
        "    raise exc\n",
        "  else:\n",
        "    dado = json.loads(response.text)\n",
        "    cdi = float(dado['taxa'].replace(',', '.')) + (random() - 0.5)\n",
        "\n",
        "  # Verificando se o arquivo \"taxa-cdi.csv\" existe\n",
        "\n",
        "  if os.path.exists('./taxa-cdi.csv') == False:\n",
        "\n",
        "    with open(file='./taxa-cdi.csv', mode='w', encoding='utf8') as fp:\n",
        "      fp.write('data,hora,taxa\\n')\n",
        "\n",
        "  # Salvando dados no arquivo \"taxa-cdi.csv\"\n",
        "\n",
        "  with open(file='./taxa-cdi.csv', mode='a', encoding='utf8') as fp:\n",
        "    fp.write(f'{data},{hora},{cdi}\\n')\n",
        "\n",
        "  time.sleep(2 + (random() - 0.5))\n",
        "\n",
        "print(\"Sucesso\")"
      ],
      "execution_count": null,
      "outputs": []
    },
    {
      "cell_type": "markdown",
      "metadata": {
        "id": "waxn4B2UDHyl"
      },
      "source": [
        "---"
      ]
    },
    {
      "cell_type": "markdown",
      "metadata": {
        "id": "finLQoyyGVmk"
      },
      "source": [
        "## 2\\. Script de Visualização"
      ]
    },
    {
      "cell_type": "markdown",
      "metadata": {
        "id": "99BrnqR4GVmy"
      },
      "source": [
        "Já o *script* para gerar um grafico da taxa CDI do site da B3 foi adaptado para utilizar o pacote Pandas. Na sua máquina, crie o arquivo `visualizacao.py` com o `script` abaixo e execute-o com o comando:\n",
        "\n",
        "```shell\n",
        "python visualizacao.py <nome-do-grafico>\n",
        "```\n",
        "\n",
        "O *script* espera um parametro de entrada com o nome do gráfico, portanto substitua o `<nome-do-grafico>` pelo nome do seu gráfico. No final, você deve ter uma imagem no formato png com o nome passado via parametro contendo a visualização dos dados gerados pelo *script* de extração.."
      ]
    },
    {
      "cell_type": "code",
      "metadata": {
        "id": "ozGsxHbPGVmz"
      },
      "source": [
        "import csv\n",
        "from sys import argv\n",
        "\n",
        "import pandas as pd\n",
        "import seaborn as sns\n",
        "\n",
        "# Extraindo as colunas hora e taxa\n",
        "\n",
        "df = pd.read_csv('./taxa-cdi.csv')\n",
        "\n",
        "# Salvando no grafico\n",
        "\n",
        "grafico = sns.lineplot(x=df['hora'], y=df['taxa'])\n",
        "_ = grafico.set_xticklabels(labels=df['hora'], rotation=90)\n",
        "grafico.get_figure().savefig(f\"{argv[1]}.png\")\n"
      ],
      "execution_count": null,
      "outputs": []
    },
    {
      "cell_type": "markdown",
      "metadata": {
        "id": "As3enQc2GVm1"
      },
      "source": [
        "---"
      ]
    },
    {
      "cell_type": "markdown",
      "metadata": {
        "id": "SS1PxxfHILHs"
      },
      "source": [
        "## 3\\. Combinando os scripts de extração e visualização."
      ]
    },
    {
      "cell_type": "markdown",
      "metadata": {
        "id": "R4hMJ6D2ILH3"
      },
      "source": [
        "Combine os *scripts* `visualizacao.py` e `extracao.py` no arquivo `analise.py` e execute-o na sua máquina, ele deve retornar os mesmos resultados: o arquivo csv e a imagem no formato png com o título escolhido via parametro de entrada. Procure seguir a organização proposta na aula (PEP8).\n",
        "\n",
        "```shell\n",
        "python analise.py <nome-do-grafico>\n",
        "```\n",
        "\n",
        "Além disso, copie o código na célula abaixo para que o tutor possa avaliar seu exercícios."
      ]
    },
    {
      "cell_type": "code",
      "metadata": {
        "id": "ogZClDvTILH3"
      },
      "source": [
        "# combinação dos scripts de extração e visualização\n",
        "import os\n",
        "import time\n",
        "import json\n",
        "from random import random\n",
        "from datetime import datetime\n",
        "from sys import argv\n",
        "\n",
        "import requests\n",
        "import pandas as pd\n",
        "import seaborn as sns\n",
        "import matplotlib.pyplot as plt\n",
        "\n",
        "URL = 'https://www2.cetip.com.br/ConsultarTaxaDi/ConsultarTaxaDICetip.aspx'\n",
        "\n",
        "\n",
        "def extrair_dados():\n",
        "    for _ in range(0, 10):\n",
        "        data_e_hora = datetime.now()\n",
        "        data = datetime.strftime(data_e_hora, '%Y/%m/%d')\n",
        "        hora = datetime.strftime(data_e_hora, '%H:%M:%S')\n",
        "\n",
        "        try:\n",
        "            response = requests.get(URL)\n",
        "            response.raise_for_status()\n",
        "        except requests.HTTPError:\n",
        "            print(\"Dado não encontrado, continuando.\")\n",
        "            cdi = None\n",
        "        except Exception as exc:\n",
        "            print(\"Erro, parando a execução.\")\n",
        "            raise exc\n",
        "        else:\n",
        "            dado = json.loads(response.text)\n",
        "            cdi = float(dado['taxa'].replace(',', '.')) + (random() - 0.5)\n",
        "\n",
        "        if not os.path.exists('./taxa-cdi.csv'):\n",
        "            with open(file='./taxa-cdi.csv', mode='w', encoding='utf8') as fp:\n",
        "                fp.write('data,hora,taxa\\n')\n",
        "\n",
        "        with open(file='./taxa-cdi.csv', mode='a', encoding='utf8') as fp:\n",
        "            fp.write(f'{data},{hora},{cdi}\\n')\n",
        "\n",
        "        time.sleep(2 + (random() - 0.5))\n",
        "\n",
        "    print(\"Sucesso\")\n",
        "\n",
        "\n",
        "def criar_grafico(nome_grafico):\n",
        "    df = pd.read_csv('./taxa-cdi.csv')\n",
        "\n",
        "    grafico = sns.lineplot(x=df['hora'], y=df['taxa'])\n",
        "\n",
        "    tick_interval = max(1, len(df['hora']) // 10)\n",
        "    ticks = range(0, len(df['hora']), tick_interval)\n",
        "    grafico.set_xticks(ticks)\n",
        "    grafico.set_xticklabels(labels=df['hora'][::tick_interval], rotation=90)\n",
        "\n",
        "    grafico.get_figure().savefig(f\"{nome_grafico}.png\")\n",
        "\n",
        "\n",
        "if __name__ == \"__main__\":\n",
        "    if len(argv) < 2:\n",
        "        print(\"Por favor, forneça o nome do gráfico como argumento.\")\n",
        "        exit(1)\n",
        "\n",
        "    nome_grafico = argv[1]\n",
        "\n",
        "    extrair_dados()\n",
        "    criar_grafico(nome_grafico)"
      ],
      "execution_count": null,
      "outputs": []
    },
    {
      "cell_type": "markdown",
      "source": [
        "IMAGEM FINAL GERADA:"
      ],
      "metadata": {
        "id": "qhAcfk7sK9w5"
      }
    },
    {
      "cell_type": "markdown",
      "source": [
        "![TaxaCDIFinal.png](data:image/png;base64,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)"
      ],
      "metadata": {
        "id": "w0GneW0vKtZC"
      }
    },
    {
      "cell_type": "markdown",
      "metadata": {
        "id": "Fx--J2bOILH4"
      },
      "source": [
        "---"
      ]
    }
  ]
}