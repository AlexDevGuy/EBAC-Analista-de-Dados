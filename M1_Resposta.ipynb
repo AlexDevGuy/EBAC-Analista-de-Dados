{
  "nbformat": 4,
  "nbformat_minor": 0,
  "metadata": {
    "colab": {
      "provenance": [],
      "toc_visible": true
    },
    "kernelspec": {
      "name": "python3",
      "display_name": "Python 3"
    }
  },
  "cells": [
    {
      "cell_type": "markdown",
      "metadata": {
        "id": "KJqp9AANOCtf"
      },
      "source": [
        "<img src=\"https://raw.githubusercontent.com/andre-marcos-perez/ebac-course-utils/main/media/logo/newebac_logo_black_half.png\" alt=\"ebac-logo\">\n",
        "\n",
        "---\n",
        "\n",
        "# **Módulo** | Python: Variáveis & Tipos de Dados\n",
        "Caderno de **Exercícios**<br>\n",
        "Professor [André Perez](https://www.linkedin.com/in/andremarcosperez/)\n",
        "\n",
        "---"
      ]
    },
    {
      "cell_type": "markdown",
      "metadata": {
        "id": "d9jDtUbDOE1-"
      },
      "source": [
        "# **Tópicos**\n",
        "\n",
        "<ol type=\"1\">\n",
        "  <li>Introdução ao Google Colab;</li>\n",
        "  <li>Variáveis;</li>\n",
        "  <li>Números;</li>\n",
        "  <li><i>Strings;</i></li>\n",
        "  <li>Boleanos.</li>\n",
        "</ol>"
      ]
    },
    {
      "cell_type": "markdown",
      "metadata": {
        "id": "SmoHgt-lwkpD"
      },
      "source": [
        "---"
      ]
    },
    {
      "cell_type": "markdown",
      "metadata": {
        "id": "GABI6OW8OfQ2"
      },
      "source": [
        "# **Exercícios**"
      ]
    },
    {
      "cell_type": "markdown",
      "metadata": {
        "id": "muD1vxozykSC"
      },
      "source": [
        "## 1\\. Google Colab"
      ]
    },
    {
      "cell_type": "markdown",
      "metadata": {
        "id": "ahrFfCuBxJKs"
      },
      "source": [
        "Crie uma célula de código que escreva o texto \"Olá mundo!\", utilize o comando `print`."
      ]
    },
    {
      "cell_type": "markdown",
      "metadata": {
        "id": "KI9zQRT2xa7m"
      },
      "source": [
        "Crie uma célua de texto e adicione uma imagem."
      ]
    },
    {
      "cell_type": "code",
      "source": [
        "print(\"Olá mundo!\")"
      ],
      "metadata": {
        "colab": {
          "base_uri": "https://localhost:8080/"
        },
        "id": "U73cJEPSyH57",
        "outputId": "40a54866-7a8f-49a7-a7e1-62c9d88c8a0e"
      },
      "execution_count": 1,
      "outputs": [
        {
          "output_type": "stream",
          "name": "stdout",
          "text": [
            "Olá mundo!\n"
          ]
        }
      ]
    },
    {
      "cell_type": "markdown",
      "source": [
        "![dev_image.avif](data:image/avif;base64,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)"
      ],
      "metadata": {
        "id": "Kt1ibqso3d44"
      }
    },
    {
      "cell_type": "markdown",
      "metadata": {
        "id": "zMN1Q3jdwoJm"
      },
      "source": [
        "---"
      ]
    },
    {
      "cell_type": "markdown",
      "source": [],
      "metadata": {
        "id": "Sd8CNi2h4UP0"
      }
    },
    {
      "cell_type": "markdown",
      "source": [],
      "metadata": {
        "id": "g-VNMQ2x4MEL"
      }
    },
    {
      "cell_type": "markdown",
      "metadata": {
        "id": "tFYOPLS3xiwe"
      },
      "source": [
        "## 2\\. Números"
      ]
    },
    {
      "cell_type": "markdown",
      "metadata": {
        "id": "O2G9gt7tx2c-"
      },
      "source": [
        "Preencha as células de código para preencher os valores de (A), (B) e (C) na tabela de ticket médio abaixo:\n",
        "\n",
        "<br>\n",
        "\n",
        "| Dia   | Valor Total Vendas | Qtd Total Vendas | Ticket Medio |\n",
        "|-------|--------------------|------------------|--------------|\n",
        "| 19/01 | (A)                | 3                | 320.52       |\n",
        "| 20/01 | 834.47             | (B)              | 119.21       |\n",
        "| 23/01 | 15378.12           | 5                | (C)          |"
      ]
    },
    {
      "cell_type": "code",
      "metadata": {
        "id": "nsrKH9EizNRD",
        "colab": {
          "base_uri": "https://localhost:8080/"
        },
        "outputId": "76943281-e174-4b9c-9068-b0c74a70c5fa"
      },
      "source": [
        "# (A)\n",
        "qtv = 3\n",
        "tm = 320.52\n",
        "a = tm * qtv\n",
        "\n",
        "print(a)"
      ],
      "execution_count": 8,
      "outputs": [
        {
          "output_type": "stream",
          "name": "stdout",
          "text": [
            "961.56\n"
          ]
        }
      ]
    },
    {
      "cell_type": "code",
      "metadata": {
        "id": "QQ1GBGHJzMmi",
        "colab": {
          "base_uri": "https://localhost:8080/"
        },
        "outputId": "e0a59ae5-739f-4505-ce4d-dd7b742d7663"
      },
      "source": [
        "# (B)\n",
        "vtv = 834.47\n",
        "tm = 119.21\n",
        "b = vtv / tm\n",
        "\n",
        "print(int(b))"
      ],
      "execution_count": 6,
      "outputs": [
        {
          "output_type": "stream",
          "name": "stdout",
          "text": [
            "7\n"
          ]
        }
      ]
    },
    {
      "cell_type": "code",
      "metadata": {
        "id": "W-li0nSMzKNa",
        "colab": {
          "base_uri": "https://localhost:8080/"
        },
        "outputId": "bf838af2-8dc2-43f0-fa26-8d2a5dd7786b"
      },
      "source": [
        "# (C)\n",
        "\n",
        "vtv = 15378.12\n",
        "qtv = 5\n",
        "tm = vtv / qtv\n",
        "\n",
        "print(tm)"
      ],
      "execution_count": 7,
      "outputs": [
        {
          "output_type": "stream",
          "name": "stdout",
          "text": [
            "3075.6240000000003\n"
          ]
        }
      ]
    },
    {
      "cell_type": "markdown",
      "metadata": {
        "id": "3eoP-Vj9yzh8"
      },
      "source": [
        "---"
      ]
    },
    {
      "cell_type": "markdown",
      "metadata": {
        "id": "yUJ6kdony6Pr"
      },
      "source": [
        "## 3\\. Strings"
      ]
    },
    {
      "cell_type": "markdown",
      "metadata": {
        "id": "KDuZpg-5zCvO"
      },
      "source": [
        "Aplique três métodos distintos na *string* abaixo, você pode conferir alguns métodos neste [link](https://www.w3schools.com/python/python_ref_string.asp):"
      ]
    },
    {
      "cell_type": "code",
      "metadata": {
        "id": "k9zbyf7BzjKj",
        "colab": {
          "base_uri": "https://localhost:8080/"
        },
        "outputId": "a174f4fa-88ef-4fc4-bb98-94a0bfb9100d"
      },
      "source": [
        "cancao = 'Roda mundo, roda gigante, roda moinho, roda pião.'\n",
        "\n",
        "#maiusculo:\n",
        "cancao_maiusculo = cancao.upper()\n",
        "print(cancao_maiusculo)\n",
        "\n",
        "#minusculo:\n",
        "cancao_minusculo = cancao.lower()\n",
        "print(cancao_minusculo)\n",
        "\n",
        "#converte as primeiras letras para minusculo:\n",
        "cancao_conv = cancao.casefold()\n",
        "print(cancao_conv)"
      ],
      "execution_count": 15,
      "outputs": [
        {
          "output_type": "stream",
          "name": "stdout",
          "text": [
            "RODA MUNDO, RODA GIGANTE, RODA MOINHO, RODA PIÃO.\n",
            "roda mundo, roda gigante, roda moinho, roda pião.\n",
            "roda mundo, roda gigante, roda moinho, roda pião.\n"
          ]
        }
      ]
    },
    {
      "cell_type": "markdown",
      "metadata": {
        "id": "guZMHXVq0FnC"
      },
      "source": [
        "Extraia da string abaixo o valor da taxa **selic** na variável `selic` e o valor do **ano** na variavel `ano`. Imprima os valores na tela."
      ]
    },
    {
      "cell_type": "code",
      "metadata": {
        "id": "cbx_P4IQ0agK",
        "colab": {
          "base_uri": "https://localhost:8080/"
        },
        "outputId": "6d5f3f49-528a-4420-e05e-60c239ea23ac"
      },
      "source": [
        "noticia = 'Selic vai a 2,75% e supera expectativas; é a primeira alta em 6 anos.'\n",
        "\n",
        "valor_selic = noticia[12:17]\n",
        "print(valor_selic)\n",
        "\n",
        "ano = noticia[-7]\n",
        "print(ano)"
      ],
      "execution_count": 19,
      "outputs": [
        {
          "output_type": "stream",
          "name": "stdout",
          "text": [
            "2,75%\n",
            "6\n"
          ]
        }
      ]
    },
    {
      "cell_type": "markdown",
      "metadata": {
        "id": "wWzbu-OC0z3L"
      },
      "source": [
        "---"
      ]
    },
    {
      "cell_type": "markdown",
      "metadata": {
        "id": "no8w_Ati01xP"
      },
      "source": [
        "## 4\\. Booleanos"
      ]
    },
    {
      "cell_type": "markdown",
      "metadata": {
        "id": "D_0tC3SC099N"
      },
      "source": [
        "Utilize a tabela da verdade para responder: qual o valor da variável x?"
      ]
    },
    {
      "cell_type": "code",
      "metadata": {
        "id": "XwIEbxf91SpU",
        "colab": {
          "base_uri": "https://localhost:8080/"
        },
        "outputId": "1bbbe37d-10a9-4304-ff50-5788e67b2b23"
      },
      "source": [
        "a = False\n",
        "b = True\n",
        "\n",
        "x = not a & b\n",
        "print(x)"
      ],
      "execution_count": 20,
      "outputs": [
        {
          "output_type": "stream",
          "name": "stdout",
          "text": [
            "True\n"
          ]
        }
      ]
    }
  ]
}